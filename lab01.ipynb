{
 "cells": [
  {
   "cell_type": "code",
   "execution_count": 60,
   "id": "67885dcc",
   "metadata": {},
   "outputs": [
    {
     "name": "stdout",
     "output_type": "stream",
     "text": [
      "============================= test session starts =============================\n",
      "platform win32 -- Python 3.9.7, pytest-7.4.4, pluggy-0.13.1 -- C:\\Users\\tieso\\anaconda3\\python.exe\n",
      "cachedir: .pytest_cache\n",
      "rootdir: C:\\Users\\tieso\\Documents\\2024\\Fall 2024\\CS 111\\lab01\n",
      "plugins: anyio-2.2.0, byu-pytest-utils-0.7.13\n",
      "collecting ... collected 8 items\n",
      "\n",
      "test_lab01.py::test_falling_6_3 PASSED                                   [ 12%]\n",
      "test_lab01.py::test_falling_4_3 PASSED                                   [ 25%]\n",
      "test_lab01.py::test_falling_4_1 PASSED                                   [ 37%]\n",
      "test_lab01.py::test_falling_4_0 PASSED                                   [ 50%]\n",
      "test_lab01.py::test_sum_digits_10 PASSED                                 [ 62%]\n",
      "test_lab01.py::test_sum_digits_4224 PASSED                               [ 75%]\n",
      "test_lab01.py::test_sum_digits_1234567890 PASSED                         [ 87%]\n",
      "test_lab01.py::test_sum_digits_123 PASSED                                [100%]\n",
      "\n",
      "============================== 8 passed in 0.06s ==============================\n"
     ]
    }
   ],
   "source": [
    "# !pytest -vv ."
   ]
  },
  {
   "cell_type": "code",
   "execution_count": null,
   "id": "0b1ab30d",
   "metadata": {},
   "outputs": [],
   "source": [
    "#0, \"None\", '' '', '[]' are all false values, everything else is false\n",
    "# and evaluates to True only if both operands evaluate to True; if at least one operand is False, then and evaluates to False\n",
    "# True and 13\n",
    "# False or 0\n",
    "# not 10\n",
    "# not None\n",
    "# # True and 1/0 and False\n",
    "# True or 1/0 or False\n",
    "# False or 1\n",
    "# 1 and 3 and 6 and 10 and 15\n",
    "# -1 and 1 > 0\n",
    "# 0 or False or 2 or 1/0\n",
    "# not 0\n",
    "# (1 + 1) and 1\n",
    "# 1/0 or True\n",
    "# (True or False) and False"
   ]
  },
  {
   "cell_type": "code",
   "execution_count": 44,
   "id": "9d056570",
   "metadata": {},
   "outputs": [],
   "source": [
    "# def func(a, b):\n",
    "#     if a == 4:\n",
    "#         return 6\n",
    "#     elif b % 2 == 0:\n",
    "#         return a // 2\n",
    "#     else:\n",
    "#         return 3 * b + 1\n",
    "\n",
    "# print(func(10, 6)) #5\n",
    "# print(func(4, 6)) #6\n",
    "# print(func(0, 3)) #10"
   ]
  },
  {
   "cell_type": "code",
   "execution_count": 48,
   "id": "be7098ba",
   "metadata": {},
   "outputs": [
    {
     "name": "stdout",
     "output_type": "stream",
     "text": [
      "big\n",
      "None\n",
      "huge\n",
      "None\n",
      "nothing\n",
      "None\n"
     ]
    }
   ],
   "source": [
    "# def how_big(x):\n",
    "#     if x > 10:\n",
    "#         print('huge')\n",
    "#     elif x > 5:\n",
    "#         print('big')\n",
    "#     elif x > 0:\n",
    "#         print('small')\n",
    "#     else:\n",
    "#         print(\"nothing\")\n",
    "        \n",
    "# print(how_big(7)) #big\n",
    "# print(how_big(12)) #huge\n",
    "# print(how_big(-1)) #nothing \n",
    "\n",
    "#because there is no return statement, it also prints 'None', because that is a function's type"
   ]
  },
  {
   "cell_type": "code",
   "execution_count": 49,
   "id": "d08070c6",
   "metadata": {},
   "outputs": [
    {
     "name": "stdout",
     "output_type": "stream",
     "text": [
      "2\n",
      "1\n",
      "0\n",
      "-1\n"
     ]
    }
   ],
   "source": [
    "# n = 3\n",
    "# while n >= 0:\n",
    "#     n -= 1\n",
    "#     print(n)\n",
    "#n = 3, returns 2\n",
    "#n = 2, returns 1\n",
    "#n = 1, returns 0\n",
    "#n = 0, returns -1"
   ]
  },
  {
   "cell_type": "code",
   "execution_count": null,
   "id": "5ca1ec72",
   "metadata": {},
   "outputs": [],
   "source": [
    "# positive = 13\n",
    "# while positive:\n",
    "#     print(\"positive?\")\n",
    "#     positive -= 3\n",
    "    \n",
    "#triggers an infinite loop because all values (except 0) are True"
   ]
  },
  {
   "cell_type": "code",
   "execution_count": 56,
   "id": "18f9e88e",
   "metadata": {},
   "outputs": [],
   "source": [
    "def falling(n, k):\n",
    "    \"\"\"Compute the falling factorial of n to depth k.\n",
    "\n",
    "    >>> falling(6, 3)  # 6 * 5 * 4\n",
    "    120\n",
    "    >>> falling(4, 3)  # 4 * 3 * 2\n",
    "    24\n",
    "    >>> falling(4, 1)  # 4\n",
    "    4\n",
    "    >>> falling(4, 0)\n",
    "    1\n",
    "    \"\"\"\n",
    "    result = 1\n",
    "    for i in range(k):\n",
    "        result *= n\n",
    "        n -= 1\n",
    "    return result\n"
   ]
  },
  {
   "cell_type": "code",
   "execution_count": 3,
   "id": "1a1a46e8",
   "metadata": {
    "lines_to_next_cell": 1
   },
   "outputs": [],
   "source": [
    "def sum_digits(y):\n",
    "    \"\"\"Sum all the digits of y.\n",
    "\n",
    "    >>> sum_digits(10) # 1 + 0 = 1\n",
    "    1\n",
    "    >>> sum_digits(4224) # 4 + 2 + 2 + 4 = 12\n",
    "    12\n",
    "    >>> sum_digits(1234567890)\n",
    "    45\n",
    "    >>> a = sum_digits(123) # make sure that you are using return rather than print\n",
    "    >>> a\n",
    "    6\n",
    "    \"\"\"\n",
    "    result = 0\n",
    "    while y > 0:\n",
    "        result += y % 10\n",
    "        y //= 10\n",
    "    return result"
   ]
  }
 ],
 "metadata": {
  "jupytext": {
   "cell_metadata_filter": "-all",
   "main_language": "python",
   "notebook_metadata_filter": "-all"
  },
  "kernelspec": {
   "display_name": "Python 3 (ipykernel)",
   "language": "python",
   "name": "python3"
  },
  "language_info": {
   "codemirror_mode": {
    "name": "ipython",
    "version": 3
   },
   "file_extension": ".py",
   "mimetype": "text/x-python",
   "name": "python",
   "nbconvert_exporter": "python",
   "pygments_lexer": "ipython3",
   "version": "3.9.7"
  }
 },
 "nbformat": 4,
 "nbformat_minor": 5
}
